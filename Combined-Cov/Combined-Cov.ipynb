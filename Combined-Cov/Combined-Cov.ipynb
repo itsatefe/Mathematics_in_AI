{
 "cells": [
  {
   "cell_type": "code",
   "execution_count": 1,
   "id": "67c736f4",
   "metadata": {},
   "outputs": [],
   "source": [
    "import numpy as np\n",
    "import pandas as pd"
   ]
  },
  {
   "cell_type": "code",
   "execution_count": 2,
   "id": "01f489f9",
   "metadata": {},
   "outputs": [],
   "source": [
    "def generate_dataset(n_samples, mean, cov, seed=42):\n",
    "    \"\"\"\n",
    "    Generate a synthetic dataset using multivariate normal distribution.\n",
    "    \n",
    "    Parameters:\n",
    "    - n_samples: int, number of samples to generate\n",
    "    - mean: list, mean vector for the dataset\n",
    "    - cov: list of lists, covariance matrix for the dataset\n",
    "    - seed: int, optional random seed for reproducibility\n",
    "    \n",
    "    Returns:\n",
    "    - dataset: np.ndarray, generated dataset\n",
    "    \"\"\"\n",
    "    if seed:\n",
    "        np.random.seed(seed)\n",
    "    dataset = np.random.multivariate_normal(mean, cov, size=n_samples)\n",
    "    return dataset"
   ]
  },
  {
   "cell_type": "code",
   "execution_count": 3,
   "id": "a1339d08",
   "metadata": {},
   "outputs": [],
   "source": [
    "# Generate dataset X\n",
    "n_X = 10\n",
    "mu_X = [1, 2]\n",
    "cov_X = [[1, 0.5], [0.5, 1]]\n",
    "dataset_X = generate_dataset(n_X, mu_X, cov_X, seed=42)"
   ]
  },
  {
   "cell_type": "code",
   "execution_count": 4,
   "id": "af89e5dd",
   "metadata": {},
   "outputs": [],
   "source": [
    "# Generate dataset Y\n",
    "n_Y = 20\n",
    "mu_Y = [3, 4]\n",
    "cov_Y = [[2, 0.2], [0.2, 3]]\n",
    "dataset_Y = generate_dataset(n_Y, mu_Y, cov_Y, seed=42)"
   ]
  },
  {
   "cell_type": "code",
   "execution_count": 69,
   "id": "02a03f24",
   "metadata": {},
   "outputs": [],
   "source": [
    "# Calculate mean and covariance for dataset X\n",
    "mean_X = np.mean(dataset_X, axis=0)\n",
    "cov_X = compute_feature_covariance(dataset_X)"
   ]
  },
  {
   "cell_type": "code",
   "execution_count": 73,
   "id": "41209f72",
   "metadata": {},
   "outputs": [
    {
     "name": "stdout",
     "output_type": "stream",
     "text": [
      "Mean X: \n",
      "[1.23891226 2.08103921]\n",
      "Cov X: \n",
      "[[1.13531412 0.38161625]\n",
      " [0.38161625 0.55938953]]\n"
     ]
    }
   ],
   "source": [
    "print(f\"Mean X: \\n{mean_X}\")\n",
    "print(f\"Cov X: \\n{cov_X}\")"
   ]
  },
  {
   "cell_type": "code",
   "execution_count": 74,
   "id": "343a7afb",
   "metadata": {},
   "outputs": [],
   "source": [
    "# Calculate mean and covariance for dataset Y\n",
    "mean_Y = np.mean(dataset_Y, axis=0)\n",
    "cov_Y = compute_feature_covariance(dataset_Y)"
   ]
  },
  {
   "cell_type": "code",
   "execution_count": 75,
   "id": "00818841",
   "metadata": {},
   "outputs": [
    {
     "name": "stdout",
     "output_type": "stream",
     "text": [
      "Mean Y: \n",
      "[2.5827721  3.76773895]\n",
      "Cov Y: \n",
      "[[ 1.97640754 -0.04528297]\n",
      " [-0.04528297  2.29103673]]\n"
     ]
    }
   ],
   "source": [
    "print(f\"Mean Y: \\n{mean_Y}\")\n",
    "print(f\"Cov Y: \\n{cov_Y}\")"
   ]
  },
  {
   "cell_type": "code",
   "execution_count": 76,
   "id": "1390d415",
   "metadata": {},
   "outputs": [],
   "source": [
    "result = np.append(dataset_X, dataset_Y, axis=0)"
   ]
  },
  {
   "cell_type": "code",
   "execution_count": 78,
   "id": "16101ae4",
   "metadata": {},
   "outputs": [],
   "source": [
    "mean_result = np.mean(result, axis=0)\n",
    "cov_result = compute_feature_covariance(result)"
   ]
  },
  {
   "cell_type": "code",
   "execution_count": 79,
   "id": "eccb11ee",
   "metadata": {},
   "outputs": [
    {
     "name": "stdout",
     "output_type": "stream",
     "text": [
      "Mean result: \n",
      "[2.13481882 3.20550571]\n",
      "Cov result: \n",
      "[[2.09736734 0.60072522]\n",
      " [0.60072522 2.34603345]]\n"
     ]
    }
   ],
   "source": [
    "print(f\"Mean result: \\n{mean_result}\")\n",
    "print(f\"Cov result: \\n{cov_result}\")"
   ]
  },
  {
   "cell_type": "code",
   "execution_count": 80,
   "id": "971154d0",
   "metadata": {},
   "outputs": [],
   "source": [
    "import numpy as np\n",
    "\n",
    "def compute_combined_stats(n_X, mu_X, Sigma_X, n_Y, mu_Y, Sigma_Y):\n",
    "    \"\"\"\n",
    "    Compute the mean vector and covariance matrix of the combined dataset,\n",
    "    ensuring proper handling of population covariance.\n",
    "\n",
    "    Parameters:\n",
    "    - n_X: int, number of instances in dataset X\n",
    "    - mu_X: np.ndarray, mean vector of dataset X\n",
    "    - Sigma_X: np.ndarray, covariance matrix of dataset X\n",
    "    - n_Y: int, number of instances in dataset Y\n",
    "    - mu_Y: np.ndarray, mean vector of dataset Y\n",
    "    - Sigma_Y: np.ndarray, covariance matrix of dataset Y\n",
    "\n",
    "    Returns:\n",
    "    - mu_combined: np.ndarray, mean vector of the combined dataset\n",
    "    - Sigma_combined: np.ndarray, covariance matrix of the combined dataset\n",
    "    \"\"\"\n",
    "    # Compute combined mean vector\n",
    "    mu_combined = (n_X * mu_X + n_Y * mu_Y) / (n_X + n_Y)\n",
    "\n",
    "    # Compute the mean difference term\n",
    "    mean_diff = mu_X - mu_Y\n",
    "    mean_adjustment = (n_X * n_Y) / (n_X + n_Y)**2 * np.outer(mean_diff, mean_diff)\n",
    "\n",
    "    # Compute combined covariance matrix\n",
    "    Sigma_combined = (n_X * Sigma_X + n_Y * Sigma_Y) / (n_X + n_Y) + mean_adjustment\n",
    "\n",
    "    return mu_combined, Sigma_combined\n"
   ]
  },
  {
   "cell_type": "code",
   "execution_count": 81,
   "id": "aea8e7fd",
   "metadata": {},
   "outputs": [
    {
     "name": "stdout",
     "output_type": "stream",
     "text": [
      "Combined Mean Vector:\n",
      "[2.13481882 3.20550571]\n",
      "\n",
      "Combined Covariance Matrix:\n",
      "[[2.09736734 0.60072522]\n",
      " [0.60072522 2.34603345]]\n"
     ]
    }
   ],
   "source": [
    "# Example usage\n",
    "if __name__ == \"__main__\":\n",
    "    # Example data\n",
    "    n_X = 10\n",
    "    mu_X = mean_X\n",
    "    Sigma_X = cov_X\n",
    "\n",
    "    n_Y = 20\n",
    "    mu_Y = mean_Y\n",
    "    Sigma_Y = cov_Y\n",
    "\n",
    "    # Compute combined mean and covariance\n",
    "    mu_combined, Sigma_combined = compute_combined_stats(n_X, mu_X, Sigma_X, n_Y, mu_Y, Sigma_Y)\n",
    "\n",
    "    # Output results\n",
    "    print(\"Combined Mean Vector:\")\n",
    "    print(mu_combined)\n",
    "\n",
    "    print(\"\\nCombined Covariance Matrix:\")\n",
    "    print(Sigma_combined)\n",
    "    \n"
   ]
  },
  {
   "cell_type": "code",
   "execution_count": 62,
   "id": "72953eaf",
   "metadata": {},
   "outputs": [
    {
     "name": "stdout",
     "output_type": "stream",
     "text": [
      "Covariance Matrix:\n",
      "[[2.09736734 0.60072522]\n",
      " [0.60072522 2.34603345]]\n"
     ]
    }
   ],
   "source": [
    "import numpy as np\n",
    "\n",
    "def compute_feature_covariance(data):\n",
    "    \"\"\"\n",
    "    Compute the covariance matrix of features for a dataset using population covariance.\n",
    "\n",
    "    Parameters:\n",
    "    - data: np.ndarray, shape (n_samples, n_features)\n",
    "      The dataset where rows are instances and columns are features.\n",
    "\n",
    "    Returns:\n",
    "    - covariance_matrix: np.ndarray, shape (n_features, n_features)\n",
    "      Covariance matrix of the features.\n",
    "    \"\"\"\n",
    "    # Ensure the input is a NumPy array\n",
    "    data = np.array(data)\n",
    "    \n",
    "    # Subtract the mean from each feature\n",
    "    mean_centered = data - np.mean(data, axis=0)\n",
    "    \n",
    "    # Compute the population covariance matrix\n",
    "    covariance_matrix = np.dot(mean_centered.T, mean_centered) / data.shape[0]\n",
    "    \n",
    "    return covariance_matrix\n",
    "\n",
    "# Example Usage\n",
    "if __name__ == \"__main__\":\n",
    "\n",
    "    # Compute the covariance matrix\n",
    "    covariance_matrix = compute_feature_covariance(result)\n",
    "    \n",
    "    # Print the covariance matrix\n",
    "    print(\"Covariance Matrix:\")\n",
    "    print(covariance_matrix)\n"
   ]
  },
  {
   "cell_type": "code",
   "execution_count": null,
   "id": "7c6b914c",
   "metadata": {},
   "outputs": [],
   "source": []
  }
 ],
 "metadata": {
  "kernelspec": {
   "display_name": "Python 3 (ipykernel)",
   "language": "python",
   "name": "python3"
  },
  "language_info": {
   "codemirror_mode": {
    "name": "ipython",
    "version": 3
   },
   "file_extension": ".py",
   "mimetype": "text/x-python",
   "name": "python",
   "nbconvert_exporter": "python",
   "pygments_lexer": "ipython3",
   "version": "3.11.5"
  }
 },
 "nbformat": 4,
 "nbformat_minor": 5
}
