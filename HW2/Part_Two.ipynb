{
 "cells": [
  {
   "cell_type": "code",
   "execution_count": 14,
   "id": "bd9fe487",
   "metadata": {},
   "outputs": [],
   "source": [
    "from scipy.stats import mode\n",
    "import numpy as np"
   ]
  },
  {
   "cell_type": "code",
   "execution_count": 2,
   "id": "00442384",
   "metadata": {},
   "outputs": [],
   "source": [
    "np.random.seed(0)\n",
    "x = np.random.rand(100)\n",
    "y = 3 * x + 2 + np.random.randn(100) * 0.5"
   ]
  },
  {
   "cell_type": "code",
   "execution_count": 3,
   "id": "76ad48c7",
   "metadata": {},
   "outputs": [],
   "source": [
    "def L0_norm(y_true, y_pred):\n",
    "    return np.count_nonzero(y_true - y_pred)\n",
    "\n",
    "def L1_norm(y_true, y_pred):\n",
    "    return np.sum(np.abs(y_true - y_pred))\n",
    "\n",
    "def L2_norm(y_true, y_pred):\n",
    "    return np.sum((y_true - y_pred) ** 2)\n",
    "\n",
    "def infinity_norm(y_true, y_pred):\n",
    "    return np.max(np.abs(y_true - y_pred))"
   ]
  },
  {
   "cell_type": "code",
   "execution_count": 4,
   "id": "291a220d",
   "metadata": {},
   "outputs": [],
   "source": [
    "def calculate_error_norm(alpha, beta, x, y, norm_func):\n",
    "    y_pred = alpha * x + beta\n",
    "    return norm_func(y, y_pred)"
   ]
  },
  {
   "cell_type": "code",
   "execution_count": 5,
   "id": "1c059c4c",
   "metadata": {},
   "outputs": [],
   "source": [
    "def find_optimal_alpha_beta(x, y, norm_func, alpha_range, beta_range):\n",
    "    best_alpha, best_beta = 0, 0\n",
    "    min_error = float('inf')\n",
    "\n",
    "    for alpha in alpha_range:\n",
    "        for beta in beta_range:\n",
    "            error = calculate_error_norm(alpha, beta, x, y, norm_func)\n",
    "            if error < min_error:\n",
    "                min_error = error\n",
    "                best_alpha, best_beta = alpha, beta\n",
    "    \n",
    "    return min_error, best_alpha, best_beta"
   ]
  },
  {
   "cell_type": "code",
   "execution_count": 6,
   "id": "61571261",
   "metadata": {},
   "outputs": [],
   "source": [
    "norm_types = [L0_norm, L1_norm, L2_norm, infinity_norm]\n",
    "alpha_range = np.linspace(-5, 5, 100)\n",
    "beta_range = np.linspace(-5, 5, 100)"
   ]
  },
  {
   "cell_type": "code",
   "execution_count": 7,
   "id": "4820fad0",
   "metadata": {},
   "outputs": [
    {
     "name": "stdout",
     "output_type": "stream",
     "text": [
      "the line for L0_norm:  -5.0 * X + -5.0 and the min error is: 100\n",
      "the line for L1_norm:  2.878787878787879 * X + 2.1717171717171713 and the min error is: 42.36090238016094\n",
      "the line for L2_norm:  2.878787878787879 * X + 2.1717171717171713 and the min error is: 24.911088991921314\n",
      "the line for infinity_norm:  3.0808080808080813 * X + 2.1717171717171713 and the min error is: 1.0039697723467143\n"
     ]
    }
   ],
   "source": [
    "for norm in norm_types:\n",
    "    min_error, alpha, beta = find_optimal_alpha_beta(x, y, norm, alpha_range, beta_range)\n",
    "    print(f\"the line for {norm.__name__}:  {alpha} * X + {beta} and the min error is: {min_error}\")"
   ]
  },
  {
   "cell_type": "markdown",
   "id": "ea6ff013",
   "metadata": {},
   "source": [
    "# Some unrelated functions :)"
   ]
  },
  {
   "cell_type": "code",
   "execution_count": 8,
   "id": "3a2ac11f",
   "metadata": {},
   "outputs": [],
   "source": [
    "def Mode(y):\n",
    "    result_mode = mode(y)\n",
    "    return result_mode.mode[0]"
   ]
  },
  {
   "cell_type": "code",
   "execution_count": 9,
   "id": "e769e75e",
   "metadata": {},
   "outputs": [],
   "source": [
    "def Median(y):\n",
    "    result_median = np.median(y)\n",
    "    return result_median"
   ]
  },
  {
   "cell_type": "code",
   "execution_count": 10,
   "id": "d15a168a",
   "metadata": {},
   "outputs": [],
   "source": [
    "def Mean(y):\n",
    "    result_mean = np.mean(y)\n",
    "    return result_mean"
   ]
  },
  {
   "cell_type": "code",
   "execution_count": 11,
   "id": "b4bcec13",
   "metadata": {},
   "outputs": [],
   "source": [
    "def Middle(y):\n",
    "    minimum = y.min()\n",
    "    maximum = y.max()\n",
    "    result_middle = 0.5 * (minimum + maximum)\n",
    "    return result_middle"
   ]
  }
 ],
 "metadata": {
  "kernelspec": {
   "display_name": "Python 3 (ipykernel)",
   "language": "python",
   "name": "python3"
  },
  "language_info": {
   "codemirror_mode": {
    "name": "ipython",
    "version": 3
   },
   "file_extension": ".py",
   "mimetype": "text/x-python",
   "name": "python",
   "nbconvert_exporter": "python",
   "pygments_lexer": "ipython3",
   "version": "3.11.5"
  }
 },
 "nbformat": 4,
 "nbformat_minor": 5
}
