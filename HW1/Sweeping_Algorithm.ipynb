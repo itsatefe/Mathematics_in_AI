{
 "cells": [
  {
   "cell_type": "markdown",
   "id": "bd3cf26b",
   "metadata": {},
   "source": [
    "f(x) = a * x + b is an affine function."
   ]
  },
  {
   "cell_type": "code",
   "execution_count": 1,
   "id": "5d0641f0",
   "metadata": {
    "pycharm": {
     "is_executing": true
    }
   },
   "outputs": [],
   "source": [
    "import random"
   ]
  },
  {
   "cell_type": "code",
   "execution_count": 2,
   "id": "bf5a1123",
   "metadata": {},
   "outputs": [],
   "source": [
    "def generate_affine_functions(num_functions):\n",
    "    affine_functions = []\n",
    "    for _ in range(num_functions):\n",
    "        a = random.uniform(-10, 10)\n",
    "        b = random.uniform(-10, 10)\n",
    "\n",
    "        def random_affine_function(x, a=a, b=b):\n",
    "            return a * x + b\n",
    "\n",
    "        affine_functions.append(random_affine_function)\n",
    "\n",
    "    return affine_functions"
   ]
  },
  {
   "cell_type": "code",
   "execution_count": 3,
   "id": "07e26e5d",
   "metadata": {},
   "outputs": [
    {
     "name": "stdout",
     "output_type": "stream",
     "text": [
      "Affine Function 1: f(x) = 5.863257557969293 * x + -3.735380990493087\n",
      "Affine Function 2: f(x) = -7.219261027197373 * x + 5.90546845933617\n",
      "Affine Function 3: f(x) = 6.70708401861582 * x + 4.857993362936552\n",
      "Affine Function 4: f(x) = 3.541300815868091 * x + -2.7932923799433755\n",
      "Affine Function 5: f(x) = 9.235177868013842 * x + -3.8521338339628404\n"
     ]
    }
   ],
   "source": [
    "num_functions = 5\n",
    "affine_functions = generate_affine_functions(num_functions)\n",
    "\n",
    "for i, func in enumerate(affine_functions):\n",
    "    print(f\"Affine Function {i + 1}: f(x) = {func.__defaults__[0]} * x + {func.__defaults__[1]}\")"
   ]
  },
  {
   "cell_type": "code",
   "execution_count": null,
   "id": "0bff2e0f",
   "metadata": {},
   "outputs": [],
   "source": []
  }
 ],
 "metadata": {
  "kernelspec": {
   "display_name": "Python 3 (ipykernel)",
   "language": "python",
   "name": "python3"
  },
  "language_info": {
   "codemirror_mode": {
    "name": "ipython",
    "version": 3
   },
   "file_extension": ".py",
   "mimetype": "text/x-python",
   "name": "python",
   "nbconvert_exporter": "python",
   "pygments_lexer": "ipython3",
   "version": "3.9.13"
  }
 },
 "nbformat": 4,
 "nbformat_minor": 5
}
